{
  "nbformat": 4,
  "nbformat_minor": 0,
  "metadata": {
    "colab": {
      "name": "Professioanl CUDA programming exercises.ipynb",
      "provenance": [],
      "include_colab_link": true
    },
    "kernelspec": {
      "name": "python3",
      "display_name": "Python 3"
    },
    "accelerator": "GPU"
  },
  "cells": [
    {
      "cell_type": "markdown",
      "metadata": {
        "id": "view-in-github",
        "colab_type": "text"
      },
      "source": [
        "<a href=\"https://colab.research.google.com/github/lucas-t-reis/CUDA/blob/master/notebooks/Professional_CUDA_programming_exercises.ipynb\" target=\"_parent\"><img src=\"https://colab.research.google.com/assets/colab-badge.svg\" alt=\"Open In Colab\"/></a>"
      ]
    },
    {
      "cell_type": "markdown",
      "metadata": {
        "id": "mWRgXMDQ6CGr",
        "colab_type": "text"
      },
      "source": [
        "- Checking for Nvidia **CUDA toolkit**\n",
        "- Checking for Nvidia Devices (enabled in Runtime type)"
      ]
    },
    {
      "cell_type": "code",
      "metadata": {
        "id": "8ZVpeV9H4jqA",
        "colab_type": "code",
        "outputId": "f16b5175-5bff-4793-fd75-67d41173f30c",
        "colab": {
          "base_uri": "https://localhost:8080/",
          "height": 102
        }
      },
      "source": [
        "!which nvcc\n",
        "!ls -l /dev/nv*"
      ],
      "execution_count": 38,
      "outputs": [
        {
          "output_type": "stream",
          "text": [
            "/usr/local/cuda/bin/nvcc\n",
            "crw-rw-rw- 1 root root 195,   0 Jan 16 11:33 /dev/nvidia0\n",
            "crw-rw-rw- 1 root root 195, 255 Jan 16 11:33 /dev/nvidiactl\n",
            "crw-rw-rw- 1 root root 247,   0 Jan 16 11:33 /dev/nvidia-uvm\n",
            "crw-rw-rw- 1 root root 247,   1 Jan 16 11:33 /dev/nvidia-uvm-tools\n"
          ],
          "name": "stdout"
        }
      ]
    },
    {
      "cell_type": "markdown",
      "metadata": {
        "id": "FYfNhHmp6nfu",
        "colab_type": "text"
      },
      "source": [
        "### Installing plugin to allow running CUDA C/C++ - by [andreinechaev](https://github.com/andreinechaev)"
      ]
    },
    {
      "cell_type": "code",
      "metadata": {
        "id": "RftHNio77-o7",
        "colab_type": "code",
        "outputId": "0de88e81-83ee-41a9-db20-56cf12dc0d55",
        "colab": {
          "base_uri": "https://localhost:8080/",
          "height": 224
        }
      },
      "source": [
        "!pip install git+git://github.com/andreinechaev/nvcc4jupyter.git\n",
        "%load_ext nvcc_plugin"
      ],
      "execution_count": 39,
      "outputs": [
        {
          "output_type": "stream",
          "text": [
            "Collecting git+git://github.com/andreinechaev/nvcc4jupyter.git\n",
            "  Cloning git://github.com/andreinechaev/nvcc4jupyter.git to /tmp/pip-req-build-emop4itj\n",
            "  Running command git clone -q git://github.com/andreinechaev/nvcc4jupyter.git /tmp/pip-req-build-emop4itj\n",
            "Requirement already satisfied (use --upgrade to upgrade): NVCCPlugin==0.0.2 from git+git://github.com/andreinechaev/nvcc4jupyter.git in /usr/local/lib/python3.6/dist-packages\n",
            "Building wheels for collected packages: NVCCPlugin\n",
            "  Building wheel for NVCCPlugin (setup.py) ... \u001b[?25l\u001b[?25hdone\n",
            "  Created wheel for NVCCPlugin: filename=NVCCPlugin-0.0.2-cp36-none-any.whl size=4307 sha256=b6e51f4bf8bfa35abe52cfd5057f28426a8768db1bf218ee2e6375db3519a069\n",
            "  Stored in directory: /tmp/pip-ephem-wheel-cache-3ndq4lwh/wheels/10/c2/05/ca241da37bff77d60d31a9174f988109c61ba989e4d4650516\n",
            "Successfully built NVCCPlugin\n",
            "The nvcc_plugin extension is already loaded. To reload it, use:\n",
            "  %reload_ext nvcc_plugin\n"
          ],
          "name": "stdout"
        }
      ]
    },
    {
      "cell_type": "markdown",
      "metadata": {
        "id": "43neWLQD-T8u",
        "colab_type": "text"
      },
      "source": [
        "# Hello World - Example 1"
      ]
    },
    {
      "cell_type": "code",
      "metadata": {
        "id": "lSJPGpe6-6oT",
        "colab_type": "code",
        "outputId": "146e0083-09b0-4d66-cfed-c22f18aadc5a",
        "colab": {
          "base_uri": "https://localhost:8080/",
          "height": 221
        }
      },
      "source": [
        "%%cu\n",
        "#include <stdio.h>\n",
        "\n",
        "// __global__ qualifier to denote a function called by CPU and executed by GPU    \n",
        "__global__ void helloWorldGPU() {\n",
        "    \n",
        "    int gpu_tid = threadIdx.x;\n",
        "    printf(\"Hello World from GPU thread %d!\\n\", gpu_tid);\n",
        "}\n",
        "\n",
        "int main() {\n",
        "    printf(\"Hello World from CPU!\\n\");\n",
        "    \n",
        "    // Kernel\n",
        "    helloWorldGPU <<< 1,10 >>> ();\n",
        "\n",
        "    cudaDeviceReset();\n",
        "}"
      ],
      "execution_count": 40,
      "outputs": [
        {
          "output_type": "stream",
          "text": [
            "Hello World from CPU!\n",
            "Hello World from GPU thread 0!\n",
            "Hello World from GPU thread 1!\n",
            "Hello World from GPU thread 2!\n",
            "Hello World from GPU thread 3!\n",
            "Hello World from GPU thread 4!\n",
            "Hello World from GPU thread 5!\n",
            "Hello World from GPU thread 6!\n",
            "Hello World from GPU thread 7!\n",
            "Hello World from GPU thread 8!\n",
            "Hello World from GPU thread 9!\n",
            "\n"
          ],
          "name": "stdout"
        }
      ]
    },
    {
      "cell_type": "markdown",
      "metadata": {
        "id": "pVNQOvk7kS8q",
        "colab_type": "text"
      },
      "source": [
        "## Understanting *grid* and *block*\n",
        "(pg.33)"
      ]
    },
    {
      "cell_type": "code",
      "metadata": {
        "id": "Tmpfq5tukdVU",
        "colab_type": "code",
        "outputId": "275396a9-0432-451b-8764-6221e2ce8f8e",
        "colab": {
          "base_uri": "https://localhost:8080/",
          "height": 306
        }
      },
      "source": [
        "%%cu\n",
        "#include <stdio.h>\n",
        "\n",
        "__global__ void d_workersData() {\n",
        "    \n",
        "      printf(\"threadIdx(%d, %d, %d) blockIdx(%d, %d, %d) blockDim(%d, %d, %d) gridDim(%d, %d, %d)\\n\",\n",
        "             threadIdx.x,threadIdx.y,threadIdx.z, blockIdx.x,blockIdx.y,blockIdx.z, \n",
        "             blockDim.x,blockDim.y,blockDim.z, gridDim.x,gridDim.y,gridDim.z);  \n",
        "\n",
        "}\n",
        "\n",
        "int main () {\n",
        "    \n",
        "    int n = 6;\n",
        "    dim3 block(3); // Setting each block to have 3 threads\n",
        "    dim3 grid( (n + block.x - 1)/block.x); // Setting x dimension to acomodate 2 blocks (data+threads per block)/blocks in give dimension\n",
        "\n",
        "    // Host check of block and grid dimensions\n",
        "    printf(\"grid.x %d grid.y %d grid.z %d\\n\", grid.x, grid.y, grid.z);\n",
        "    printf(\"block.x %d block.y %d block.z %d\\n\", block.x, block.y, block.z);\n",
        "\n",
        "    d_workersData <<< grid , block >>> ();\n",
        "\n",
        "    cudaDeviceSynchronize(); // Sync CPU and GPU\n",
        "\n",
        "\n",
        "    // Resetting block and grid sizes\n",
        "    block.x = 2;\n",
        "    grid.x = (n + block.x - 1)/(block.x);\n",
        "    printf(\"\\nblock %d grid %d\\n\", block.x, grid.x);\n",
        "\n",
        "    d_workersData <<< grid, block >>> ();\n",
        "\n",
        "    cudaDeviceReset();\n",
        "    \n",
        "    \n",
        "}"
      ],
      "execution_count": 41,
      "outputs": [
        {
          "output_type": "stream",
          "text": [
            "grid.x 2 grid.y 1 grid.z 1\n",
            "block.x 3 block.y 1 block.z 1\n",
            "threadIdx(0, 0, 0) blockIdx(0, 0, 0) blockDim(3, 1, 1) gridDim(2, 1, 1)\n",
            "threadIdx(1, 0, 0) blockIdx(0, 0, 0) blockDim(3, 1, 1) gridDim(2, 1, 1)\n",
            "threadIdx(2, 0, 0) blockIdx(0, 0, 0) blockDim(3, 1, 1) gridDim(2, 1, 1)\n",
            "threadIdx(0, 0, 0) blockIdx(1, 0, 0) blockDim(3, 1, 1) gridDim(2, 1, 1)\n",
            "threadIdx(1, 0, 0) blockIdx(1, 0, 0) blockDim(3, 1, 1) gridDim(2, 1, 1)\n",
            "threadIdx(2, 0, 0) blockIdx(1, 0, 0) blockDim(3, 1, 1) gridDim(2, 1, 1)\n",
            "\n",
            "block 2 grid 3\n",
            "threadIdx(0, 0, 0) blockIdx(0, 0, 0) blockDim(2, 1, 1) gridDim(3, 1, 1)\n",
            "threadIdx(1, 0, 0) blockIdx(0, 0, 0) blockDim(2, 1, 1) gridDim(3, 1, 1)\n",
            "threadIdx(0, 0, 0) blockIdx(1, 0, 0) blockDim(2, 1, 1) gridDim(3, 1, 1)\n",
            "threadIdx(1, 0, 0) blockIdx(1, 0, 0) blockDim(2, 1, 1) gridDim(3, 1, 1)\n",
            "threadIdx(0, 0, 0) blockIdx(2, 0, 0) blockDim(2, 1, 1) gridDim(3, 1, 1)\n",
            "threadIdx(1, 0, 0) blockIdx(2, 0, 0) blockDim(2, 1, 1) gridDim(3, 1, 1)\n",
            "\n"
          ],
          "name": "stdout"
        }
      ]
    },
    {
      "cell_type": "markdown",
      "metadata": {
        "id": "oRLFonwZVp1i",
        "colab_type": "text"
      },
      "source": [
        "### Observations\n",
        "\n",
        " * Grid dimensions are determined by:\n",
        "    ``` \n",
        "    n = # of elements + threads per block on x\n",
        "    grid.x = (n-1)/(threads per block on x) \n",
        "    ```\n",
        " * Each thread can be uniquely identified by **threadIdx** and **blockIdx**\n",
        " * Host sees block and grid, Device uses pre-initialized **blockDim** and **gridDim**\n",
        " * \\# of executions by changing block capacity or grid capacity respectively:\n",
        "   * ``` work = block (x*y*z)```\n",
        "   * ``` grid (x*y*z) * work``` \n",
        " * Syncing CPU and GPU is something to be aware of when changing properties\n"
      ]
    },
    {
      "cell_type": "code",
      "metadata": {
        "id": "AJ_4yrU0WF9S",
        "colab_type": "code",
        "colab": {}
      },
      "source": [
        ""
      ],
      "execution_count": 0,
      "outputs": []
    }
  ]
}