{
  "nbformat": 4,
  "nbformat_minor": 0,
  "metadata": {
    "colab": {
      "name": "Professioanl CUDA programming exercises.ipynb",
      "provenance": [],
      "include_colab_link": true
    },
    "kernelspec": {
      "name": "python3",
      "display_name": "Python 3"
    },
    "accelerator": "GPU"
  },
  "cells": [
    {
      "cell_type": "markdown",
      "metadata": {
        "id": "view-in-github",
        "colab_type": "text"
      },
      "source": [
        "<a href=\"https://colab.research.google.com/github/lucas-t-reis/CUDA/blob/master/notebooks/Professioanl_CUDA_programming_exercises.ipynb\" target=\"_parent\"><img src=\"https://colab.research.google.com/assets/colab-badge.svg\" alt=\"Open In Colab\"/></a>"
      ]
    },
    {
      "cell_type": "markdown",
      "metadata": {
        "id": "mWRgXMDQ6CGr",
        "colab_type": "text"
      },
      "source": [
        "- Checking for Nvidia **CUDA toolkit**\n",
        "- Checking for Nvidia Devices (enabled in Runtime type)"
      ]
    },
    {
      "cell_type": "code",
      "metadata": {
        "id": "8ZVpeV9H4jqA",
        "colab_type": "code",
        "outputId": "6c7753f8-bca2-4db7-8f6d-38c38ab2d484",
        "colab": {
          "base_uri": "https://localhost:8080/",
          "height": 102
        }
      },
      "source": [
        "!which nvcc\n",
        "!ls -l /dev/nv*"
      ],
      "execution_count": 0,
      "outputs": [
        {
          "output_type": "stream",
          "text": [
            "/usr/local/cuda/bin/nvcc\n",
            "crw-rw-rw- 1 root root 195,   0 Jan  7 21:21 /dev/nvidia0\n",
            "crw-rw-rw- 1 root root 195, 255 Jan  7 21:21 /dev/nvidiactl\n",
            "crw-rw-rw- 1 root root 247,   0 Jan  7 21:21 /dev/nvidia-uvm\n",
            "crw-rw-rw- 1 root root 247,   1 Jan  7 21:21 /dev/nvidia-uvm-tools\n"
          ],
          "name": "stdout"
        }
      ]
    },
    {
      "cell_type": "markdown",
      "metadata": {
        "id": "FYfNhHmp6nfu",
        "colab_type": "text"
      },
      "source": [
        "### Installing plugin to allow running CUDA C/C++ - by [andreinechaev](https://github.com/andreinechaev)"
      ]
    },
    {
      "cell_type": "code",
      "metadata": {
        "id": "RftHNio77-o7",
        "colab_type": "code",
        "colab": {
          "base_uri": "https://localhost:8080/",
          "height": 241
        },
        "outputId": "b8c6ed6c-427f-41ad-a1fd-0d6fe293dedb"
      },
      "source": [
        "!pip install git+git://github.com/andreinechaev/nvcc4jupyter.git\n",
        "%load_ext nvcc_plugin"
      ],
      "execution_count": 3,
      "outputs": [
        {
          "output_type": "stream",
          "text": [
            "Collecting git+git://github.com/andreinechaev/nvcc4jupyter.git\n",
            "  Cloning git://github.com/andreinechaev/nvcc4jupyter.git to /tmp/pip-req-build-nddf24pt\n",
            "  Running command git clone -q git://github.com/andreinechaev/nvcc4jupyter.git /tmp/pip-req-build-nddf24pt\n",
            "Building wheels for collected packages: NVCCPlugin\n",
            "  Building wheel for NVCCPlugin (setup.py) ... \u001b[?25l\u001b[?25hdone\n",
            "  Created wheel for NVCCPlugin: filename=NVCCPlugin-0.0.2-cp36-none-any.whl size=4307 sha256=ff2c6f9347660956ae9b8e1f975f8ff938e44bbdb54b556fc0d11b73dff0f809\n",
            "  Stored in directory: /tmp/pip-ephem-wheel-cache-ustdcvfk/wheels/10/c2/05/ca241da37bff77d60d31a9174f988109c61ba989e4d4650516\n",
            "Successfully built NVCCPlugin\n",
            "Installing collected packages: NVCCPlugin\n",
            "Successfully installed NVCCPlugin-0.0.2\n",
            "created output directory at /content/src\n",
            "Out bin /content/result.out\n"
          ],
          "name": "stdout"
        }
      ]
    },
    {
      "cell_type": "markdown",
      "metadata": {
        "id": "43neWLQD-T8u",
        "colab_type": "text"
      },
      "source": [
        "# Hello World - Example 1"
      ]
    },
    {
      "cell_type": "code",
      "metadata": {
        "id": "lSJPGpe6-6oT",
        "colab_type": "code",
        "colab": {
          "base_uri": "https://localhost:8080/",
          "height": 221
        },
        "outputId": "10b0d38c-7a62-488c-c00b-10e7acc9c627"
      },
      "source": [
        "%%cu\n",
        "#include <stdio.h>\n",
        "\n",
        "// __global__ qualifier to denote a function called by CPU and executed by GPU\n",
        "__global__ void helloWorldGPU() {\n",
        "    \n",
        "    int gpu_tid = threadIdx.x;\n",
        "    printf(\"Hello World from GPU thread %d!\\n\", gpu_tid);\n",
        "}\n",
        "\n",
        "int main() {\n",
        "    printf(\"Hello World from CPU!\\n\");\n",
        "    \n",
        "    // Kernel\n",
        "    helloWorldGPU <<< 1,10 >>> ();\n",
        "\n",
        "    cudaDeviceReset();\n",
        "}"
      ],
      "execution_count": 11,
      "outputs": [
        {
          "output_type": "stream",
          "text": [
            "Hello World from CPU!\n",
            "Hello World from GPU thread 0!\n",
            "Hello World from GPU thread 1!\n",
            "Hello World from GPU thread 2!\n",
            "Hello World from GPU thread 3!\n",
            "Hello World from GPU thread 4!\n",
            "Hello World from GPU thread 5!\n",
            "Hello World from GPU thread 6!\n",
            "Hello World from GPU thread 7!\n",
            "Hello World from GPU thread 8!\n",
            "Hello World from GPU thread 9!\n",
            "\n"
          ],
          "name": "stdout"
        }
      ]
    }
  ]
}